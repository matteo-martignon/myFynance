{
 "cells": [
  {
   "cell_type": "code",
   "execution_count": 25,
   "id": "bf1ca418-971d-40a3-ae48-a7d212399597",
   "metadata": {},
   "outputs": [],
   "source": [
    "import os\n",
    "import pandas as pd\n",
    "\n",
    "from datetime import datetime"
   ]
  },
  {
   "cell_type": "code",
   "execution_count": 48,
   "id": "f357b507-eabe-4af0-a3f8-a528cee88d71",
   "metadata": {},
   "outputs": [],
   "source": [
    "def importo_map_andre(x):\n",
    "    \n",
    "    if x in (-100, -50):\n",
    "        return \"A\"\n",
    "    elif x < 0:\n",
    "        return \"C\"\n",
    "    else:\n",
    "        return \"R\""
   ]
  },
  {
   "cell_type": "code",
   "execution_count": 31,
   "id": "3074aa62-7708-4906-b8f3-c021423fed0f",
   "metadata": {},
   "outputs": [],
   "source": [
    "source = \"data/new_data/andre\"\n",
    "filename = os.listdir(source)[0]\n",
    "df = pd.read_excel(f\"{source}/{filename}\", header=11)\n",
    "columns = ['Data Contabile', 'Data', 'Addebiti', 'Accrediti', 'Dettagli',\n",
    "       'Spesa Comune', 'Categoria']\n",
    "\n",
    "df.columns = columns\n",
    "df[\"Addebiti\"] = pd.to_numeric(df[\"Addebiti\"].fillna(\"0\").apply(lambda x: x.replace(\".\", \"\").replace(\",\", \".\")))\n",
    "df[\"Accrediti\"] = pd.to_numeric(df[\"Accrediti\"].fillna(\"0\").apply(lambda x: x.replace(\".\", \"\").replace(\",\", \".\")))\n",
    "df[\"Importo\"] = df[\"Accrediti\"] - df[\"Addebiti\"]\n",
    "df.drop(columns=[\"Addebiti\", \"Accrediti\", \"Data Contabile\"], inplace=True)"
   ]
  },
  {
   "cell_type": "code",
   "execution_count": 32,
   "id": "1b24a908-1426-480a-957a-276a9a1e9746",
   "metadata": {},
   "outputs": [
    {
     "name": "stdout",
     "output_type": "stream",
     "text": [
      "<class 'pandas.core.frame.DataFrame'>\n",
      "RangeIndex: 94 entries, 0 to 93\n",
      "Data columns (total 5 columns):\n",
      " #   Column        Non-Null Count  Dtype  \n",
      "---  ------        --------------  -----  \n",
      " 0   Data          94 non-null     object \n",
      " 1   Dettagli      94 non-null     object \n",
      " 2   Spesa Comune  31 non-null     object \n",
      " 3   Categoria     91 non-null     object \n",
      " 4   Importo       94 non-null     float64\n",
      "dtypes: float64(1), object(4)\n",
      "memory usage: 3.8+ KB\n"
     ]
    }
   ],
   "source": [
    "df.info()"
   ]
  },
  {
   "cell_type": "code",
   "execution_count": 40,
   "id": "fe466912-075d-4f70-bdce-339b537bbd9e",
   "metadata": {},
   "outputs": [],
   "source": [
    "data_orig = \"data/dataAndre.csv\"\n",
    "now = datetime.utcnow().strftime(\"%Y%m%d%H%M%S\")\n",
    "data_store = f\"data/storico/dataAndre_{now}.csv\"\n",
    "    \n",
    "data_or = pd.read_csv(data_orig, sep=\";\")"
   ]
  },
  {
   "cell_type": "code",
   "execution_count": 41,
   "id": "4adc6474-3f74-429e-b44f-72579a68f678",
   "metadata": {},
   "outputs": [
    {
     "data": {
      "text/plain": [
       "Index(['Data', 'Dettagli', 'Spesa Comune', 'Categoria', 'Importo'], dtype='object')"
      ]
     },
     "execution_count": 41,
     "metadata": {},
     "output_type": "execute_result"
    }
   ],
   "source": [
    "df.columns"
   ]
  },
  {
   "cell_type": "code",
   "execution_count": 44,
   "id": "d3af183d-e31d-40f5-b982-20195a5028b7",
   "metadata": {},
   "outputs": [],
   "source": [
    "data_or.rename(columns={\"Categoria \": \"Categoria\"}, inplace=True)"
   ]
  },
  {
   "cell_type": "code",
   "execution_count": 46,
   "id": "43b0b299-e8f2-4966-9b24-af84c3b35adc",
   "metadata": {},
   "outputs": [],
   "source": [
    "data_or = data_or[df.columns]"
   ]
  },
  {
   "cell_type": "code",
   "execution_count": 47,
   "id": "2b990475-07a8-4900-bd7e-c6c4d76996e0",
   "metadata": {},
   "outputs": [
    {
     "name": "stdout",
     "output_type": "stream",
     "text": [
      "<class 'pandas.core.frame.DataFrame'>\n",
      "RangeIndex: 322 entries, 0 to 321\n",
      "Data columns (total 5 columns):\n",
      " #   Column        Non-Null Count  Dtype \n",
      "---  ------        --------------  ----- \n",
      " 0   Data          322 non-null    object\n",
      " 1   Dettagli      322 non-null    object\n",
      " 2   Spesa Comune  99 non-null     object\n",
      " 3   Categoria     149 non-null    object\n",
      " 4   Importo       322 non-null    object\n",
      "dtypes: object(5)\n",
      "memory usage: 12.7+ KB\n"
     ]
    }
   ],
   "source": [
    "data_or.info()"
   ]
  },
  {
   "cell_type": "code",
   "execution_count": 52,
   "id": "f5c8895d-e67b-4d1a-8060-4222eb2ec4d9",
   "metadata": {},
   "outputs": [
    {
     "name": "stderr",
     "output_type": "stream",
     "text": [
      "<ipython-input-52-e5fedaac5f57>:1: SettingWithCopyWarning: \n",
      "A value is trying to be set on a copy of a slice from a DataFrame.\n",
      "Try using .loc[row_indexer,col_indexer] = value instead\n",
      "\n",
      "See the caveats in the documentation: https://pandas.pydata.org/pandas-docs/stable/user_guide/indexing.html#returning-a-view-versus-a-copy\n",
      "  data_or[\"Importo\"] = pd.to_numeric(data_or[\"Importo\"].apply(lambda x: x.replace(\",\", \".\")))\n"
     ]
    }
   ],
   "source": [
    "data_or[\"Importo\"] = pd.to_numeric(data_or[\"Importo\"].apply(lambda x: x.replace(\",\", \".\")))"
   ]
  },
  {
   "cell_type": "code",
   "execution_count": 55,
   "id": "6151e76b-4fc1-488a-82c6-324b4cd86897",
   "metadata": {},
   "outputs": [
    {
     "name": "stdout",
     "output_type": "stream",
     "text": [
      "<class 'pandas.core.frame.DataFrame'>\n",
      "RangeIndex: 322 entries, 0 to 321\n",
      "Data columns (total 5 columns):\n",
      " #   Column        Non-Null Count  Dtype  \n",
      "---  ------        --------------  -----  \n",
      " 0   Data          322 non-null    object \n",
      " 1   Dettagli      322 non-null    object \n",
      " 2   Spesa Comune  99 non-null     object \n",
      " 3   Categoria     149 non-null    object \n",
      " 4   Importo       322 non-null    float64\n",
      "dtypes: float64(1), object(4)\n",
      "memory usage: 12.7+ KB\n"
     ]
    }
   ],
   "source": [
    "data_or.info()"
   ]
  },
  {
   "cell_type": "code",
   "execution_count": 58,
   "id": "da30f138-c827-47c0-b916-d3be133bf274",
   "metadata": {},
   "outputs": [
    {
     "name": "stderr",
     "output_type": "stream",
     "text": [
      "<ipython-input-58-c0427fa5aa91>:1: SettingWithCopyWarning: \n",
      "A value is trying to be set on a copy of a slice from a DataFrame.\n",
      "Try using .loc[row_indexer,col_indexer] = value instead\n",
      "\n",
      "See the caveats in the documentation: https://pandas.pydata.org/pandas-docs/stable/user_guide/indexing.html#returning-a-view-versus-a-copy\n",
      "  data_or[\"Data\"] = pd.to_datetime(data_or[\"Data\"])\n"
     ]
    }
   ],
   "source": [
    "data_or[\"Data\"] = pd.to_datetime(data_or[\"Data\"])"
   ]
  },
  {
   "cell_type": "code",
   "execution_count": 60,
   "id": "40373183-ef2e-4e78-bf12-5485b8147551",
   "metadata": {},
   "outputs": [
    {
     "name": "stdout",
     "output_type": "stream",
     "text": [
      "<class 'pandas.core.frame.DataFrame'>\n",
      "RangeIndex: 322 entries, 0 to 321\n",
      "Data columns (total 5 columns):\n",
      " #   Column        Non-Null Count  Dtype         \n",
      "---  ------        --------------  -----         \n",
      " 0   Data          322 non-null    datetime64[ns]\n",
      " 1   Dettagli      322 non-null    object        \n",
      " 2   Spesa Comune  99 non-null     object        \n",
      " 3   Categoria     149 non-null    object        \n",
      " 4   Importo       322 non-null    float64       \n",
      "dtypes: datetime64[ns](1), float64(1), object(3)\n",
      "memory usage: 12.7+ KB\n"
     ]
    }
   ],
   "source": [
    "data_or.info()"
   ]
  },
  {
   "cell_type": "code",
   "execution_count": 62,
   "id": "cd97cee6-84fb-4f60-84df-6b6ad4858b84",
   "metadata": {},
   "outputs": [
    {
     "name": "stderr",
     "output_type": "stream",
     "text": [
      "<ipython-input-62-7d3a0ef118f2>:1: SettingWithCopyWarning: \n",
      "A value is trying to be set on a copy of a slice from a DataFrame.\n",
      "Try using .loc[row_indexer,col_indexer] = value instead\n",
      "\n",
      "See the caveats in the documentation: https://pandas.pydata.org/pandas-docs/stable/user_guide/indexing.html#returning-a-view-versus-a-copy\n",
      "  data_or[\"Tipologia\"] = data_or[\"Importo\"].apply(importo_map_andre)\n"
     ]
    }
   ],
   "source": [
    "data_or[\"Tipologia\"] = data_or[\"Importo\"].apply(importo_map_andre)"
   ]
  },
  {
   "cell_type": "code",
   "execution_count": 64,
   "id": "75da5478-9fcb-4bba-94ec-76dc693b7459",
   "metadata": {},
   "outputs": [
    {
     "name": "stdout",
     "output_type": "stream",
     "text": [
      "<class 'pandas.core.frame.DataFrame'>\n",
      "RangeIndex: 322 entries, 0 to 321\n",
      "Data columns (total 6 columns):\n",
      " #   Column        Non-Null Count  Dtype         \n",
      "---  ------        --------------  -----         \n",
      " 0   Data          322 non-null    datetime64[ns]\n",
      " 1   Dettagli      322 non-null    object        \n",
      " 2   Spesa Comune  99 non-null     object        \n",
      " 3   Categoria     149 non-null    object        \n",
      " 4   Importo       322 non-null    float64       \n",
      " 5   Tipologia     322 non-null    object        \n",
      "dtypes: datetime64[ns](1), float64(1), object(4)\n",
      "memory usage: 15.2+ KB\n"
     ]
    }
   ],
   "source": [
    "data_or.info()"
   ]
  },
  {
   "cell_type": "code",
   "execution_count": 66,
   "id": "2771033f-a91f-4b17-8915-f389fab10cb2",
   "metadata": {},
   "outputs": [
    {
     "data": {
      "text/plain": [
       "'data/dataAndre.csv'"
      ]
     },
     "execution_count": 66,
     "metadata": {},
     "output_type": "execute_result"
    }
   ],
   "source": [
    "data_orig"
   ]
  },
  {
   "cell_type": "code",
   "execution_count": 68,
   "id": "7e726e8a-17f3-4021-a314-c5696070aa9e",
   "metadata": {},
   "outputs": [],
   "source": [
    "data_or.to_csv(data_orig, index=False)"
   ]
  },
  {
   "cell_type": "code",
   "execution_count": null,
   "id": "52d057a9-c022-429b-bbec-a7b7506f6cf2",
   "metadata": {},
   "outputs": [],
   "source": []
  }
 ],
 "metadata": {
  "kernelspec": {
   "display_name": "Python 3",
   "language": "python",
   "name": "python3"
  },
  "language_info": {
   "codemirror_mode": {
    "name": "ipython",
    "version": 3
   },
   "file_extension": ".py",
   "mimetype": "text/x-python",
   "name": "python",
   "nbconvert_exporter": "python",
   "pygments_lexer": "ipython3",
   "version": "3.8.10"
  }
 },
 "nbformat": 4,
 "nbformat_minor": 5
}
