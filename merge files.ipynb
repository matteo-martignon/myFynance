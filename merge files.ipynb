{
 "cells": [
  {
   "cell_type": "code",
   "execution_count": 1,
   "id": "16b3c90a-84b2-44c6-b84c-2299d62af872",
   "metadata": {},
   "outputs": [],
   "source": [
    "import os\n",
    "import pandas as pd\n",
    "\n",
    "from datetime import datetime"
   ]
  },
  {
   "cell_type": "code",
   "execution_count": 3,
   "id": "154e744f-e2ad-489f-a4ae-8c3a3b082cbf",
   "metadata": {},
   "outputs": [
    {
     "data": {
      "text/plain": [
       "['.ipynb_checkpoints',\n",
       " 'categorie.csv',\n",
       " 'conguagli_E.csv',\n",
       " 'conguagli_NE.csv',\n",
       " 'data.csv',\n",
       " 'dataAndre.csv',\n",
       " 'dataMatte.csv',\n",
       " 'dataOrigAndre.csv',\n",
       " 'new_data',\n",
       " 'OLD',\n",
       " 'storico',\n",
       " 'test_dataMatte.csv',\n",
       " 'WHORKSHEET.xlsx']"
      ]
     },
     "execution_count": 3,
     "metadata": {},
     "output_type": "execute_result"
    }
   ],
   "source": [
    "os.listdir(\"data\")"
   ]
  },
  {
   "cell_type": "code",
   "execution_count": 46,
   "id": "94617855-69c3-4d05-9582-7e25fcea9a89",
   "metadata": {},
   "outputs": [],
   "source": [
    "df_andre = pd.read_csv('data/dataAndre.csv', sep=\";\")"
   ]
  },
  {
   "cell_type": "code",
   "execution_count": 47,
   "id": "35e06a0d-a0e4-42af-96ff-27565fc768d7",
   "metadata": {},
   "outputs": [
    {
     "name": "stdout",
     "output_type": "stream",
     "text": [
      "<class 'pandas.core.frame.DataFrame'>\n",
      "RangeIndex: 322 entries, 0 to 321\n",
      "Data columns (total 12 columns):\n",
      " #   Column             Non-Null Count  Dtype \n",
      "---  ------             --------------  ----- \n",
      " 0   ID_OPERAZIONE      322 non-null    int64 \n",
      " 1   Data               322 non-null    object\n",
      " 2   Operazione         322 non-null    object\n",
      " 3   Dettagli           322 non-null    object\n",
      " 4   Conto o carta      322 non-null    object\n",
      " 5   Contabilizzazione  322 non-null    object\n",
      " 6   Categoria          149 non-null    object\n",
      " 7   Valuta             322 non-null    object\n",
      " 8   Importo            322 non-null    object\n",
      " 9   Tipologia          322 non-null    object\n",
      " 10  Agente             322 non-null    object\n",
      " 11  Spesa Comune       99 non-null     object\n",
      "dtypes: int64(1), object(11)\n",
      "memory usage: 30.3+ KB\n"
     ]
    }
   ],
   "source": [
    "df_andre.info()"
   ]
  },
  {
   "cell_type": "code",
   "execution_count": 48,
   "id": "6fd7dafa-6a40-47cc-8881-39c0818b799c",
   "metadata": {},
   "outputs": [],
   "source": [
    "df_matte = pd.read_csv('data/dataMatte.csv', sep=\";\")"
   ]
  },
  {
   "cell_type": "code",
   "execution_count": 49,
   "id": "dd689f04-ee76-4999-aa89-814534cc4e84",
   "metadata": {},
   "outputs": [
    {
     "name": "stdout",
     "output_type": "stream",
     "text": [
      "<class 'pandas.core.frame.DataFrame'>\n",
      "RangeIndex: 966 entries, 0 to 965\n",
      "Data columns (total 11 columns):\n",
      " #   Column             Non-Null Count  Dtype \n",
      "---  ------             --------------  ----- \n",
      " 0   Data               966 non-null    object\n",
      " 1   Operazione         966 non-null    object\n",
      " 2   Dettagli           966 non-null    object\n",
      " 3   Conto o carta      966 non-null    object\n",
      " 4   Contabilizzazione  966 non-null    object\n",
      " 5   Categoria          966 non-null    object\n",
      " 6   Valuta             966 non-null    object\n",
      " 7   Importo            966 non-null    object\n",
      " 8   Tipologia          966 non-null    object\n",
      " 9   Agente             966 non-null    object\n",
      " 10  Spesa Comune       66 non-null     object\n",
      "dtypes: object(11)\n",
      "memory usage: 83.1+ KB\n"
     ]
    }
   ],
   "source": [
    "df_matte.info()"
   ]
  },
  {
   "cell_type": "code",
   "execution_count": 53,
   "id": "8daf415b-4b0d-4a64-86a6-07e1ce19bab6",
   "metadata": {},
   "outputs": [],
   "source": [
    "merge = pd.concat([df_matte, df_andre.drop(columns=\"ID_OPERAZIONE\")])"
   ]
  },
  {
   "cell_type": "code",
   "execution_count": 55,
   "id": "5c32ae37-bfc8-41fd-9043-0cc3ccf9c7f0",
   "metadata": {},
   "outputs": [
    {
     "name": "stdout",
     "output_type": "stream",
     "text": [
      "<class 'pandas.core.frame.DataFrame'>\n",
      "Int64Index: 1288 entries, 0 to 321\n",
      "Data columns (total 11 columns):\n",
      " #   Column             Non-Null Count  Dtype \n",
      "---  ------             --------------  ----- \n",
      " 0   Data               1288 non-null   object\n",
      " 1   Operazione         1288 non-null   object\n",
      " 2   Dettagli           1288 non-null   object\n",
      " 3   Conto o carta      1288 non-null   object\n",
      " 4   Contabilizzazione  1288 non-null   object\n",
      " 5   Categoria          1115 non-null   object\n",
      " 6   Valuta             1288 non-null   object\n",
      " 7   Importo            1288 non-null   object\n",
      " 8   Tipologia          1288 non-null   object\n",
      " 9   Agente             1288 non-null   object\n",
      " 10  Spesa Comune       165 non-null    object\n",
      "dtypes: object(11)\n",
      "memory usage: 120.8+ KB\n"
     ]
    }
   ],
   "source": [
    "merge.info()"
   ]
  },
  {
   "cell_type": "code",
   "execution_count": 57,
   "id": "07fe800c-bb20-4c8d-bb84-04f8357dba5a",
   "metadata": {},
   "outputs": [],
   "source": [
    "data = pd.read_csv(\"data/data.csv\", sep=\";\")"
   ]
  },
  {
   "cell_type": "code",
   "execution_count": 58,
   "id": "0a08d1e2-d350-4df9-934d-ea6a9e747e8c",
   "metadata": {},
   "outputs": [
    {
     "name": "stdout",
     "output_type": "stream",
     "text": [
      "<class 'pandas.core.frame.DataFrame'>\n",
      "RangeIndex: 1288 entries, 0 to 1287\n",
      "Data columns (total 13 columns):\n",
      " #   Column             Non-Null Count  Dtype \n",
      "---  ------             --------------  ----- \n",
      " 0   Anno               1288 non-null   int64 \n",
      " 1   Mese               1288 non-null   int64 \n",
      " 2   Data               1288 non-null   object\n",
      " 3   Operazione         1288 non-null   object\n",
      " 4   Dettagli           1288 non-null   object\n",
      " 5   Conto o carta      1288 non-null   object\n",
      " 6   Contabilizzazione  1288 non-null   object\n",
      " 7   Categoria          1115 non-null   object\n",
      " 8   Valuta             1288 non-null   object\n",
      " 9   Importo            1288 non-null   object\n",
      " 10  Tipologia          1288 non-null   object\n",
      " 11  Agente             1288 non-null   object\n",
      " 12  Spesa Comune       165 non-null    object\n",
      "dtypes: int64(2), object(11)\n",
      "memory usage: 130.9+ KB\n"
     ]
    }
   ],
   "source": [
    "data.info()"
   ]
  },
  {
   "cell_type": "code",
   "execution_count": 60,
   "id": "c89e020c-96d3-4c8d-aa79-a0be1ac2ef60",
   "metadata": {},
   "outputs": [],
   "source": [
    "data.drop(columns=[\"Anno\", \"Mese\"], inplace=True)"
   ]
  },
  {
   "cell_type": "code",
   "execution_count": 61,
   "id": "c0e4690e-03da-404f-8321-1db1b47b3616",
   "metadata": {},
   "outputs": [],
   "source": [
    "data.to_csv(\"data/data.csv\", sep=\";\", index=False)"
   ]
  },
  {
   "cell_type": "code",
   "execution_count": 62,
   "id": "cf0a95e2-1f60-4908-aefd-eb028352f41a",
   "metadata": {},
   "outputs": [],
   "source": [
    "data = pd.read_csv(\"data/data.csv\", sep=\";\")"
   ]
  },
  {
   "cell_type": "code",
   "execution_count": 63,
   "id": "1d37525d-3141-41f0-ab5f-43c9908c6644",
   "metadata": {},
   "outputs": [
    {
     "name": "stdout",
     "output_type": "stream",
     "text": [
      "<class 'pandas.core.frame.DataFrame'>\n",
      "RangeIndex: 1288 entries, 0 to 1287\n",
      "Data columns (total 11 columns):\n",
      " #   Column             Non-Null Count  Dtype \n",
      "---  ------             --------------  ----- \n",
      " 0   Data               1288 non-null   object\n",
      " 1   Operazione         1288 non-null   object\n",
      " 2   Dettagli           1288 non-null   object\n",
      " 3   Conto o carta      1288 non-null   object\n",
      " 4   Contabilizzazione  1288 non-null   object\n",
      " 5   Categoria          1115 non-null   object\n",
      " 6   Valuta             1288 non-null   object\n",
      " 7   Importo            1288 non-null   object\n",
      " 8   Tipologia          1288 non-null   object\n",
      " 9   Agente             1288 non-null   object\n",
      " 10  Spesa Comune       165 non-null    object\n",
      "dtypes: object(11)\n",
      "memory usage: 110.8+ KB\n"
     ]
    }
   ],
   "source": [
    "data.info()"
   ]
  },
  {
   "cell_type": "code",
   "execution_count": null,
   "id": "88cb1d8b-210c-4b15-8136-34aba7988b81",
   "metadata": {},
   "outputs": [],
   "source": []
  },
  {
   "cell_type": "code",
   "execution_count": null,
   "id": "2aec4eef-fe7b-4dde-a8dd-67eb9f054289",
   "metadata": {},
   "outputs": [],
   "source": []
  },
  {
   "cell_type": "code",
   "execution_count": null,
   "id": "59c2e9d8-2eb7-44c1-8ede-4fcfba2d854a",
   "metadata": {},
   "outputs": [],
   "source": []
  }
 ],
 "metadata": {
  "kernelspec": {
   "display_name": "Python 3",
   "language": "python",
   "name": "python3"
  },
  "language_info": {
   "codemirror_mode": {
    "name": "ipython",
    "version": 3
   },
   "file_extension": ".py",
   "mimetype": "text/x-python",
   "name": "python",
   "nbconvert_exporter": "python",
   "pygments_lexer": "ipython3",
   "version": "3.8.10"
  }
 },
 "nbformat": 4,
 "nbformat_minor": 5
}
