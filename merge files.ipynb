{
 "cells": [
  {
   "cell_type": "code",
   "execution_count": 1,
   "id": "16b3c90a-84b2-44c6-b84c-2299d62af872",
   "metadata": {},
   "outputs": [],
   "source": [
    "import os\n",
    "import pandas as pd\n",
    "\n",
    "from datetime import datetime"
   ]
  },
  {
   "cell_type": "code",
   "execution_count": 3,
   "id": "154e744f-e2ad-489f-a4ae-8c3a3b082cbf",
   "metadata": {},
   "outputs": [
    {
     "data": {
      "text/plain": [
       "['.ipynb_checkpoints',\n",
       " 'categorie.csv',\n",
       " 'conguagli_E.csv',\n",
       " 'conguagli_NE.csv',\n",
       " 'data.csv',\n",
       " 'dataAndre.csv',\n",
       " 'dataMatte.csv',\n",
       " 'dataOrigAndre.csv',\n",
       " 'new_data',\n",
       " 'OLD',\n",
       " 'storico',\n",
       " 'WHORKSHEET.xlsx']"
      ]
     },
     "execution_count": 3,
     "metadata": {},
     "output_type": "execute_result"
    }
   ],
   "source": [
    "os.listdir(\"data\")"
   ]
  }
 ],
 "metadata": {
  "kernelspec": {
   "display_name": "Python 3",
   "language": "python",
   "name": "python3"
  },
  "language_info": {
   "codemirror_mode": {
    "name": "ipython",
    "version": 3
   },
   "file_extension": ".py",
   "mimetype": "text/x-python",
   "name": "python",
   "nbconvert_exporter": "python",
   "pygments_lexer": "ipython3",
   "version": "3.8.10"
  }
 },
 "nbformat": 4,
 "nbformat_minor": 5
}
