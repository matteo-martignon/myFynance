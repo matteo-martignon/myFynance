{
 "cells": [
  {
   "cell_type": "code",
   "execution_count": 1,
   "id": "369c95c6-e884-4247-ba7b-256cd58012ba",
   "metadata": {},
   "outputs": [],
   "source": [
    "import pandas as pd"
   ]
  },
  {
   "cell_type": "code",
   "execution_count": 25,
   "id": "9c9cd880-7e1a-4240-8073-cbca9d48d8ba",
   "metadata": {},
   "outputs": [],
   "source": [
    "data = pd.read_csv(\"data/dataMatte.csv\", parse_dates=[\"Data\"])"
   ]
  },
  {
   "cell_type": "code",
   "execution_count": 26,
   "id": "ee8123a3-5498-427a-982b-f36d15611737",
   "metadata": {},
   "outputs": [
    {
     "name": "stdout",
     "output_type": "stream",
     "text": [
      "<class 'pandas.core.frame.DataFrame'>\n",
      "RangeIndex: 1052 entries, 0 to 1051\n",
      "Data columns (total 11 columns):\n",
      " #   Column             Non-Null Count  Dtype         \n",
      "---  ------             --------------  -----         \n",
      " 0   Data               1052 non-null   datetime64[ns]\n",
      " 1   Operazione         1052 non-null   object        \n",
      " 2   Dettagli           1052 non-null   object        \n",
      " 3   Conto o carta      1052 non-null   object        \n",
      " 4   Contabilizzazione  1052 non-null   object        \n",
      " 5   Categoria          1052 non-null   object        \n",
      " 6   Valuta             1052 non-null   object        \n",
      " 7   Importo            1052 non-null   float64       \n",
      " 8   Tipologia          1052 non-null   object        \n",
      " 9   Agente             1052 non-null   object        \n",
      " 10  Spesa Comune       107 non-null    object        \n",
      "dtypes: datetime64[ns](1), float64(1), object(9)\n",
      "memory usage: 90.5+ KB\n"
     ]
    }
   ],
   "source": [
    "data.info()"
   ]
  },
  {
   "cell_type": "code",
   "execution_count": 19,
   "id": "5d231e93-55cc-4b8c-9e54-f68312004800",
   "metadata": {},
   "outputs": [
    {
     "name": "stdout",
     "output_type": "stream",
     "text": [
      "<class 'pandas.core.frame.DataFrame'>\n",
      "RangeIndex: 1052 entries, 0 to 1051\n",
      "Data columns (total 11 columns):\n",
      " #   Column             Non-Null Count  Dtype         \n",
      "---  ------             --------------  -----         \n",
      " 0   Data               1052 non-null   datetime64[ns]\n",
      " 1   Operazione         1052 non-null   object        \n",
      " 2   Dettagli           1052 non-null   object        \n",
      " 3   Conto o carta      1052 non-null   object        \n",
      " 4   Contabilizzazione  1052 non-null   object        \n",
      " 5   Categoria          1052 non-null   object        \n",
      " 6   Valuta             1052 non-null   object        \n",
      " 7   Importo            1052 non-null   float64       \n",
      " 8   Tipologia          1052 non-null   object        \n",
      " 9   Agente             1052 non-null   object        \n",
      " 10  Spesa Comune       107 non-null    object        \n",
      "dtypes: datetime64[ns](1), float64(1), object(9)\n",
      "memory usage: 90.5+ KB\n"
     ]
    }
   ],
   "source": [
    "data.info()"
   ]
  },
  {
   "cell_type": "code",
   "execution_count": null,
   "id": "e186ccdc-2ead-4af9-84e7-e416a4c4224f",
   "metadata": {},
   "outputs": [],
   "source": []
  }
 ],
 "metadata": {
  "kernelspec": {
   "display_name": "Python 3",
   "language": "python",
   "name": "python3"
  },
  "language_info": {
   "codemirror_mode": {
    "name": "ipython",
    "version": 3
   },
   "file_extension": ".py",
   "mimetype": "text/x-python",
   "name": "python",
   "nbconvert_exporter": "python",
   "pygments_lexer": "ipython3",
   "version": "3.8.10"
  }
 },
 "nbformat": 4,
 "nbformat_minor": 5
}
