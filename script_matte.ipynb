{
 "cells": [
  {
   "cell_type": "code",
   "execution_count": 1,
   "id": "60fb9c51-325d-4eae-845d-639022aa64da",
   "metadata": {},
   "outputs": [],
   "source": [
    "import os\n",
    "import pandas as pd\n",
    "from utils import importo_map_matte"
   ]
  },
  {
   "cell_type": "code",
   "execution_count": 2,
   "id": "382ffc3f-cfff-4b59-bba2-b358705ef2fa",
   "metadata": {},
   "outputs": [
    {
     "name": "stdout",
     "output_type": "stream",
     "text": [
      "File lista_completa_30062021.xlsx moved from data/new_data/matte to data/storico/matte\n"
     ]
    }
   ],
   "source": [
    "source = \"data/new_data/matte\"\n",
    "destination = \"data/storico/matte\"\n",
    "filename = os.listdir(source)[0]\n",
    "#os.rename(f\"{source}/{filename}\", f\"{destination}/{filename}\")\n",
    "print(f\"File {filename} moved from {source} to {destination}\")"
   ]
  },
  {
   "cell_type": "code",
   "execution_count": 3,
   "id": "ca7db876-66a8-4a97-8de3-1f932b35da1f",
   "metadata": {},
   "outputs": [],
   "source": [
    "columns = ['Data', 'Operazione', 'Dettagli', 'Conto o carta', 'Contabilizzazione',\n",
    "       'Categoria ', 'Valuta', 'Importo', 'Spesa Comune']"
   ]
  },
  {
   "cell_type": "code",
   "execution_count": 4,
   "id": "e00a4ec6-837e-4bdc-907a-7e492931e635",
   "metadata": {},
   "outputs": [],
   "source": [
    "df = pd.read_excel(f\"{source}/{filename}\", header=19)"
   ]
  },
  {
   "cell_type": "code",
   "execution_count": 5,
   "id": "5a980d8a-83aa-445e-8bab-e266ac2a6f79",
   "metadata": {},
   "outputs": [],
   "source": [
    "df.columns = columns"
   ]
  },
  {
   "cell_type": "code",
   "execution_count": 6,
   "id": "78a72c5c-edc2-42fd-8bc1-9af9ef3a69df",
   "metadata": {},
   "outputs": [],
   "source": [
    "data = pd.read_csv(\"data/dataMatte.csv\")"
   ]
  },
  {
   "cell_type": "code",
   "execution_count": 7,
   "id": "8e0149ce-d117-4493-9217-668e8867acf5",
   "metadata": {},
   "outputs": [],
   "source": [
    "df[\"Tipologia\"] = df[\"Importo\"].apply(importo_map_matte)"
   ]
  },
  {
   "cell_type": "code",
   "execution_count": 8,
   "id": "b92225be-5845-4196-acb5-d6b8c8363743",
   "metadata": {},
   "outputs": [],
   "source": [
    "df[\"Agente\"] = \"M\""
   ]
  },
  {
   "cell_type": "code",
   "execution_count": 9,
   "id": "19fd312c-5233-4efa-9a95-5dbd5cfe1676",
   "metadata": {},
   "outputs": [],
   "source": [
    "# data[\"Data\"] = pd.to_datetime(data[\"Data\"])"
   ]
  },
  {
   "cell_type": "code",
   "execution_count": 10,
   "id": "cc75c8c0-1950-4608-840b-f98bf25fe543",
   "metadata": {},
   "outputs": [],
   "source": [
    "# data[\"Importo\"] = pd.to_numeric(data[\"Importo\"].apply(lambda x: x.replace(\".\", \"\").replace(\",\", \".\")))"
   ]
  },
  {
   "cell_type": "code",
   "execution_count": 11,
   "id": "c2142d16-4098-4c6f-8dc8-9e0fd474324d",
   "metadata": {},
   "outputs": [],
   "source": [
    "# data.to_csv(\"data/dataMatte.csv\", index=False)"
   ]
  },
  {
   "cell_type": "code",
   "execution_count": 12,
   "id": "a14cf92a-2962-47ef-aec9-1aef22874eb0",
   "metadata": {},
   "outputs": [],
   "source": [
    "data_f = pd.concat([data, df])"
   ]
  },
  {
   "cell_type": "code",
   "execution_count": 13,
   "id": "e9b621f0-6e5f-4cc5-9a17-20bf6c87e403",
   "metadata": {},
   "outputs": [],
   "source": [
    "assert data.shape[0] + df.shape[0] == data_f.shape[0], \"Data leakage\""
   ]
  },
  {
   "cell_type": "code",
   "execution_count": 14,
   "id": "c5318c5a-7f0b-467c-a7a2-13e153c59cc4",
   "metadata": {},
   "outputs": [],
   "source": [
    "data_f.to_csv(\"data/test_dataMatte.csv\", index=False)"
   ]
  },
  {
   "cell_type": "code",
   "execution_count": 21,
   "id": "89f8a95a-a872-45a6-84b7-11a50e39ab20",
   "metadata": {},
   "outputs": [],
   "source": [
    "def process_file_matte():\n",
    "    \n",
    "    columns = ['Data', 'Operazione', 'Dettagli', 'Conto o carta', 'Contabilizzazione',\n",
    "       'Categoria ', 'Valuta', 'Importo', 'Spesa Comune']\n",
    "    \n",
    "    source = \"data/new_data/matte\"\n",
    "    destination = \"data/storico/matte\"\n",
    "    \n",
    "    filename = os.listdir(source)[0]\n",
    "    \n",
    "    df = pd.read_excel(f\"{source}/{filename}\", header=19)\n",
    "    \n",
    "    df.columns = columns\n",
    "    df[\"Tipologia\"] = df[\"Importo\"].apply(importo_map_matte)\n",
    "    df[\"Agente\"] = \"M\"\n",
    "    \n",
    "    append_data_to_original(df)\n",
    "    \n",
    "    #os.rename(f\"{source}/{filename}\", f\"{destination}/{filename}\")\n",
    "    print(f\"File {filename} moved from {source} to {destination}\")\n",
    "    \n",
    "    return"
   ]
  },
  {
   "cell_type": "code",
   "execution_count": 20,
   "id": "013d3900-f995-4b40-aa26-b9faea2a6e05",
   "metadata": {},
   "outputs": [],
   "source": [
    "process_file_matte()"
   ]
  },
  {
   "cell_type": "code",
   "execution_count": 22,
   "id": "7cc6e42d-6cb5-4955-9771-dc6427b1e785",
   "metadata": {},
   "outputs": [],
   "source": [
    "def append_data_to_original(df):\n",
    "    \n",
    "    data_orig = \"data/dataMatte.csv\"\n",
    "    data_store = \"data/storico/dataMatte.csv\"\n",
    "    \n",
    "    data_or = pd.read_csv(data_orig)\n",
    "\n",
    "    data_f = pd.concat([data_or, df])\n",
    "    \n",
    "    assert data_or.shape[0] + df.shape[0] == data_f.shape[0], \"Data leakage\"\n",
    "    \n",
    "    os.rename(data_orig, data_store)\n",
    "    \n",
    "    data_f.to_csv(\"data/test_dataMatte.csv\", index=False)\n",
    "    \n",
    "    print(f\"File {data_orig} moved to {data_store}\")\n",
    "    "
   ]
  },
  {
   "cell_type": "code",
   "execution_count": null,
   "id": "91dc62a7-bd22-44b9-8bad-d42f6ef7cddc",
   "metadata": {},
   "outputs": [],
   "source": []
  }
 ],
 "metadata": {
  "kernelspec": {
   "display_name": "Python 3",
   "language": "python",
   "name": "python3"
  },
  "language_info": {
   "codemirror_mode": {
    "name": "ipython",
    "version": 3
   },
   "file_extension": ".py",
   "mimetype": "text/x-python",
   "name": "python",
   "nbconvert_exporter": "python",
   "pygments_lexer": "ipython3",
   "version": "3.8.10"
  }
 },
 "nbformat": 4,
 "nbformat_minor": 5
}
