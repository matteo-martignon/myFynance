{
 "cells": [
  {
   "cell_type": "code",
   "execution_count": 1,
   "id": "4f9e2b5b-ddb7-48da-8df1-ed2cdcc29c13",
   "metadata": {},
   "outputs": [],
   "source": [
    "import os\n",
    "import pandas as pd\n",
    "\n",
    "from datetime import datetime"
   ]
  },
  {
   "cell_type": "code",
   "execution_count": 2,
   "id": "68ffef9e-8291-4585-ac09-d91346268302",
   "metadata": {},
   "outputs": [],
   "source": [
    "def tipologia_andre(x):\n",
    "    \n",
    "    if x in (-100, -50):\n",
    "        return \"A\"\n",
    "    elif x < 0:\n",
    "        return \"C\"\n",
    "    else:\n",
    "        return \"R\""
   ]
  },
  {
   "cell_type": "code",
   "execution_count": 16,
   "id": "71f44be6-7420-4b9c-8412-e60583fe5e0f",
   "metadata": {},
   "outputs": [],
   "source": [
    "columns = ['Data Contabile', 'Data', 'Addebiti', 'Accrediti', 'Dettagli',\n",
    "       'Spesa Comune', 'Categoria']\n",
    "source = \"data/new_data/andre\"\n",
    "destination = \"data/storico/andre\"\n",
    "\n",
    "filename = os.listdir(source)[0]\n",
    "\n",
    "df = pd.read_excel(f\"{source}/{filename}\", header=11)\n",
    "df.columns = columns\n",
    "df[\"Addebiti\"] = pd.to_numeric(df[\"Addebiti\"].fillna(\"0\").apply(lambda x: x.replace(\".\", \"\").replace(\",\", \".\")))\n",
    "df[\"Accrediti\"] = pd.to_numeric(df[\"Accrediti\"].fillna(\"0\").apply(lambda x: x.replace(\".\", \"\").replace(\",\", \".\")))\n",
    "df[\"Importo\"] = df[\"Accrediti\"] - df[\"Addebiti\"]\n",
    "df.drop(columns=[\"Addebiti\", \"Accrediti\", \"Data Contabile\"], inplace=True)\n",
    "df[\"Data\"] = pd.to_datetime(df[\"Data\"])\n",
    "df[\"Tipologia\"] = df[\"Importo\"].apply(tipologia_andre)"
   ]
  },
  {
   "cell_type": "code",
   "execution_count": 23,
   "id": "0cc53755-e92b-4d13-a2e4-cce4afdadd2e",
   "metadata": {},
   "outputs": [
    {
     "name": "stdout",
     "output_type": "stream",
     "text": [
      "<class 'pandas.core.frame.DataFrame'>\n",
      "RangeIndex: 94 entries, 0 to 93\n",
      "Data columns (total 6 columns):\n",
      " #   Column        Non-Null Count  Dtype         \n",
      "---  ------        --------------  -----         \n",
      " 0   Data          94 non-null     datetime64[ns]\n",
      " 1   Dettagli      94 non-null     object        \n",
      " 2   Spesa Comune  31 non-null     object        \n",
      " 3   Categoria     91 non-null     object        \n",
      " 4   Importo       94 non-null     float64       \n",
      " 5   Tipologia     94 non-null     object        \n",
      "dtypes: datetime64[ns](1), float64(1), object(4)\n",
      "memory usage: 4.5+ KB\n"
     ]
    }
   ],
   "source": [
    "df.info()"
   ]
  },
  {
   "cell_type": "code",
   "execution_count": 35,
   "id": "41ec33de-899c-485f-b863-c469baea9172",
   "metadata": {},
   "outputs": [],
   "source": [
    "def process_file_andre():\n",
    "    \n",
    "    columns = ['Data Contabile', 'Data', 'Addebiti', 'Accrediti', 'Dettagli',\n",
    "       'Spesa Comune', 'Categoria']\n",
    "    source = \"data/new_data/andre\"\n",
    "    now = datetime.utcnow().strftime(\"%Y%m%d%H%M%S\")\n",
    "    destination = \"data/storico/andre\"\n",
    "\n",
    "    filename = os.listdir(source)[0]\n",
    "\n",
    "    df = pd.read_excel(f\"{source}/{filename}\", header=11)\n",
    "    df.columns = columns\n",
    "    df[\"Addebiti\"] = pd.to_numeric(df[\"Addebiti\"].fillna(\"0\").apply(lambda x: x.replace(\".\", \"\").replace(\",\", \".\")))\n",
    "    df[\"Accrediti\"] = pd.to_numeric(df[\"Accrediti\"].fillna(\"0\").apply(lambda x: x.replace(\".\", \"\").replace(\",\", \".\")))\n",
    "    df[\"Importo\"] = df[\"Accrediti\"] - df[\"Addebiti\"]\n",
    "    df.drop(columns=[\"Addebiti\", \"Accrediti\", \"Data Contabile\"], inplace=True)\n",
    "    df[\"Data\"] = pd.to_datetime(df[\"Data\"])\n",
    "    df[\"Tipologia\"] = df[\"Importo\"].apply(tipologia_andre)\n",
    "    \n",
    "    append_data_to_original_andre(df)\n",
    "    \n",
    "    os.rename(f\"{source}/{filename}\", f\"{destination}/{now}_{filename}\")\n",
    "    print(f\"File {filename} moved from {source} to {destination}\")\n",
    "    \n",
    "    return"
   ]
  },
  {
   "cell_type": "code",
   "execution_count": 22,
   "id": "bad5876a-3d3a-4c9e-8c86-9613a0ee9659",
   "metadata": {},
   "outputs": [
    {
     "name": "stdout",
     "output_type": "stream",
     "text": [
      "File ListaMovimenti (3).xlsx moved from data/new_data/andre to data/storico/andre\n"
     ]
    }
   ],
   "source": [
    "# process_file_andre()"
   ]
  },
  {
   "cell_type": "code",
   "execution_count": 36,
   "id": "524f666a-6f62-4bb5-a029-9d861ccbb1d6",
   "metadata": {},
   "outputs": [],
   "source": [
    "def append_data_to_original_andre(df):\n",
    "    \n",
    "    data_orig = \"data/dataAndre.csv\"\n",
    "    now = datetime.utcnow().strftime(\"%Y%m%d%H%M%S\")\n",
    "    data_store = f\"data/storico/dataAndre_{now}.csv\"\n",
    "    \n",
    "    data_or = pd.read_csv(data_orig)\n",
    "\n",
    "    data_f = pd.concat([data_or, df])\n",
    "    \n",
    "    assert data_or.shape[0] + df.shape[0] == data_f.shape[0], \"Data leakage\"\n",
    "    \n",
    "    os.rename(data_orig, data_store)\n",
    "    \n",
    "    data_f.to_csv(data_orig, index=False)\n",
    "    \n",
    "    print(f\"File {data_orig} moved to {data_store}\")\n",
    "    \n",
    "    return"
   ]
  },
  {
   "cell_type": "code",
   "execution_count": 37,
   "id": "522aa746-8818-458e-880c-867c79783ac2",
   "metadata": {},
   "outputs": [
    {
     "name": "stdout",
     "output_type": "stream",
     "text": [
      "File data/dataAndre.csv moved to data/storico/dataAndre_20210704103319.csv\n",
      "File ListaMovimenti (3).xlsx moved from data/new_data/andre to data/storico/andre\n"
     ]
    }
   ],
   "source": [
    "process_file_andre()"
   ]
  }
 ],
 "metadata": {
  "kernelspec": {
   "display_name": "Python 3",
   "language": "python",
   "name": "python3"
  },
  "language_info": {
   "codemirror_mode": {
    "name": "ipython",
    "version": 3
   },
   "file_extension": ".py",
   "mimetype": "text/x-python",
   "name": "python",
   "nbconvert_exporter": "python",
   "pygments_lexer": "ipython3",
   "version": "3.8.10"
  }
 },
 "nbformat": 4,
 "nbformat_minor": 5
}
